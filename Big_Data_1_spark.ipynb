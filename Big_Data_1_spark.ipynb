{
 "cells": [
  {
   "cell_type": "code",
   "execution_count": 1,
   "metadata": {},
   "outputs": [],
   "source": [
    "\n",
    "from pyspark import SparkContext\n",
    "sc = SparkContext(appName = \"exercise test\")\n"
   ]
  },
  {
   "cell_type": "code",
   "execution_count": 2,
   "metadata": {},
   "outputs": [
    {
     "data": {
      "text/plain": [
       "[(2014, 29.1), (2013, 10.2), (2013, -13.3), (2014, -24.3)]"
      ]
     },
     "execution_count": 2,
     "metadata": {},
     "output_type": "execute_result"
    }
   ],
   "source": [
    "\n",
    "\n",
    "# 1) What are thelowestandhighesttemperaturesmeasuredeachyearfortheperiod1950-2014.\n",
    "# Provide the lists sorted in the descending order with respect to the maximum temperature. In\n",
    "# this exercise you will use the temperature-readings.csv file\n",
    "\n",
    "def max_temperatures(a,b):\n",
    "    if a>=b:\n",
    "        return a \n",
    "    else:\n",
    "        return b\n",
    "    \n",
    "temperature_file = sc.textFile(\"temperature-readings-small.csv\")\n",
    "\n",
    "lines = temperature_file.map(lambda line: line.split(\";\"))\n",
    "\n",
    "year_temperature = lines.map(lambda x:(int(x[1][0:4]),float(x[3])))\\\n",
    "                        .filter(lambda x: int(x[0])>1950 or int(x[0]<2014))\n",
    "                        \n",
    "max_temps = year_temperature.reduceByKey(max)\n",
    "min_temps = year_temperature.reduceByKey(min)\n",
    "\n",
    "combine_rdd = max_temps.union(min_temps)\\\n",
    "                        .sortBy(lambda x:x[1],ascending=False)\n",
    "\n",
    "combine_rdd.take(10)\n"
   ]
  },
  {
   "cell_type": "code",
   "execution_count": 3,
   "metadata": {},
   "outputs": [
    {
     "data": {
      "text/plain": [
       "[(2014, 5, 31),\n",
       " (2014, 6, 54),\n",
       " (2014, 8, 57),\n",
       " (2014, 9, 25),\n",
       " (2013, 11, 1),\n",
       " (2014, 4, 9),\n",
       " (2014, 7, 62),\n",
       " (2014, 10, 18),\n",
       " (2014, 11, 2)]"
      ]
     },
     "execution_count": 3,
     "metadata": {},
     "output_type": "execute_result"
    }
   ],
   "source": [
    "monthly_reading = lines.map(lambda x:(x[1][0:7],float(x[3])))\\\n",
    "                        .filter(lambda x: (x[1] >= 10))\\\n",
    "                        .map(lambda x: (x[0],1))\\\n",
    "                        .reduceByKey(lambda x,y: x+y)\\\n",
    "                        .map(lambda x: (int(x[0][0:4]),int(x[0][5:7]),x[1]))\n",
    "                        \n",
    "                        \n",
    "monthly_reading.take(10)"
   ]
  },
  {
   "cell_type": "code",
   "execution_count": 4,
   "metadata": {},
   "outputs": [
    {
     "data": {
      "text/plain": [
       "[(2014, 5, 1),\n",
       " (2014, 6, 1),\n",
       " (2014, 8, 1),\n",
       " (2014, 9, 1),\n",
       " (2013, 11, 1),\n",
       " (2014, 4, 1),\n",
       " (2014, 7, 1),\n",
       " (2014, 10, 1),\n",
       " (2014, 11, 1)]"
      ]
     },
     "execution_count": 4,
     "metadata": {},
     "output_type": "execute_result"
    }
   ],
   "source": [
    "monthly_reading = lines.map(lambda x:(x[1][0:7],float(x[3])))\\\n",
    "                        .filter(lambda x: (x[1] >= 10))\\\n",
    "                        .map(lambda x: (x[0],1))\\\n",
    "                        .reduceByKey(lambda x,y: x+y)\\\n",
    "                        .map(lambda x: (int(x[0][0:4]),int(x[0][5:7]),1))\n",
    "\n",
    "\n",
    "monthly_reading.take(10)"
   ]
  },
  {
   "cell_type": "code",
   "execution_count": 5,
   "metadata": {},
   "outputs": [
    {
     "data": {
      "text/plain": [
       "[(102170, 2013, 11, -2.0003417526335583),\n",
       " (102170, 2014, 2, 1.922969836488312),\n",
       " (102170, 2014, 3, 4.069735469970217),\n",
       " (102170, 2014, 5, 17.39750592222906),\n",
       " (102170, 2014, 6, 15.63130711000733),\n",
       " (102170, 2014, 9, 3.522406336468481),\n",
       " (102170, 2014, 10, -0.7295115266715948),\n",
       " (102170, 2014, 12, -8.169879193493859),\n",
       " (102170, 2013, 12, 2.6110939705074534),\n",
       " (102170, 2014, 1, -4.70177628986221),\n",
       " (102170, 2014, 4, 3.1893467007620595),\n",
       " (102170, 2014, 7, 17.137965973876884),\n",
       " (102170, 2014, 8, 11.971542739182839),\n",
       " (102170, 2014, 11, -1.3014219025835239)]"
      ]
     },
     "execution_count": 5,
     "metadata": {},
     "output_type": "execute_result"
    }
   ],
   "source": [
    "#def \n",
    "\n",
    "year_temperature = lines.map(lambda x:(int(x[0]),int(x[1][0:4]),int(x[1][5:7]),float(x[3])))\\\n",
    "                        .filter(lambda x:(x[1]>1960 or x[2]<2014))\\\n",
    "                        .map(lambda x:((str(x[0]) +\",\"+ str(x[1]) +\",\"+ str(x[2])),float(x[3])))\\\n",
    "                        .reduceByKey(lambda x,y: (x + y)/2)\\\n",
    "                        .map(lambda x:(int(x[0][0:6]),int(x[0][7:11]),int(x[0][12:]),float(x[1])))\n",
    "\n",
    "    \n",
    "year_temperature.collect()"
   ]
  },
  {
   "cell_type": "code",
   "execution_count": 7,
   "metadata": {},
   "outputs": [],
   "source": [
    "temperature_file = sc.textFile(\"temperature-readings-small.csv\")\n",
    "lines = temperature_file.map(lambda line: line.split(\";\"))\n",
    "preci_file = sc.textFile(\"precipitation-readings.csv\")"
   ]
  },
  {
   "cell_type": "code",
   "execution_count": 8,
   "metadata": {},
   "outputs": [
    {
     "data": {
      "text/plain": [
       "[('102170,2014-07-10', 26.5),\n",
       " ('102170,2014-07-21', 27.6),\n",
       " ('102170,2014-07-23', 29.1),\n",
       " ('102170,2014-07-09', 28.2),\n",
       " ('102170,2014-07-22', 28.0),\n",
       " ('102170,2014-07-26', 28.7),\n",
       " ('102170,2014-07-29', 25.5)]"
      ]
     },
     "execution_count": 8,
     "metadata": {},
     "output_type": "execute_result"
    }
   ],
   "source": [
    "temp_2 = lines.map(lambda x: ((x[0] +\",\"+x[1]),float(x[3])))\\\n",
    "                .filter(lambda x: (x[1] > 25 and x[1] < 30))\\\n",
    "                .reduceByKey(max)\n",
    "\n",
    "temp_2.take(10)"
   ]
  },
  {
   "cell_type": "code",
   "execution_count": 9,
   "metadata": {},
   "outputs": [
    {
     "data": {
      "text/plain": [
       "[('103100,1996-01-11', 0.1),\n",
       " ('103100,1996-02-10', 0.1),\n",
       " ('103100,1996-05-14', 0.1),\n",
       " ('103100,1996-09-13', 0.1),\n",
       " ('103100,1996-11-02', 0.1),\n",
       " ('103100,1996-12-03', 0.1),\n",
       " ('103100,1996-12-12', 0.1),\n",
       " ('103100,1996-12-30', 0.1),\n",
       " ('103100,1997-02-11', 0.1),\n",
       " ('103100,1997-02-20', 0.1)]"
      ]
     },
     "execution_count": 9,
     "metadata": {},
     "output_type": "execute_result"
    }
   ],
   "source": [
    "preci_1 = preci_file.map(lambda line: line.split(\";\"))\\\n",
    "                    .map(lambda x: ((x[0] + \",\" +  x[1]),float(x[3])))\\\n",
    "                    .filter(lambda x: (x[1] > 0.01 and x[1] < 0.2))\\\n",
    "                    .reduceByKey(max)\n",
    "\n",
    "preci_1.take(10)"
   ]
  },
  {
   "cell_type": "code",
   "execution_count": 10,
   "metadata": {},
   "outputs": [
    {
     "data": {
      "text/plain": [
       "[('103100,1996-01-11', 0.1),\n",
       " ('103100,1999-01-01', 0.1),\n",
       " ('103100,2006-05-02', 0.1),\n",
       " ('103100,2006-06-22', 0.1),\n",
       " ('103100,2010-06-20', 0.1),\n",
       " ('103100,2011-10-28', 0.1),\n",
       " ('103100,2012-02-19', 0.1),\n",
       " ('103100,2013-10-10', 0.1),\n",
       " ('103100,2014-03-26', 0.1),\n",
       " ('103100,2014-04-05', 0.1)]"
      ]
     },
     "execution_count": 10,
     "metadata": {},
     "output_type": "execute_result"
    }
   ],
   "source": [
    "combine_rdd = temp_2.union(preci_1)\\\n",
    "                    .reduceByKey(lambda x,y: (x,y))\n",
    "combine_rdd.take(10)"
   ]
  },
  {
   "cell_type": "code",
   "execution_count": 271,
   "metadata": {},
   "outputs": [],
   "source": [
    "station_number = sc.textFile(\"stations-Ostergotland.csv\")\\\n",
    "                     .map(lambda line: line.split(\";\"))\\\n",
    "                    .map(lambda x: x[0])\n",
    "station_bc  = sc.broadcast(station_number.collect())\n",
    "\n",
    "preci_2 = preci_file.map(lambda line: line.split(\";\"))\\\n",
    "                    .filter(lambda x:x[0] in station_bc.value)\\\n",
    "                    .map(lambda x: ((int(x[0]),x[1][0:7]),float(x[3])))\\\n",
    "                    .reduceByKey(lambda x,y:(x+y)/2)\\\n",
    "                    .map(lambda x:(x[0][0],x[0][1],x[1]))"
   ]
  },
  {
   "cell_type": "code",
   "execution_count": 272,
   "metadata": {},
   "outputs": [
    {
     "data": {
      "text/plain": [
       "[(75520, '1996-02', 3.814697265625022e-06),\n",
       " (75520, '1997-08', 9.5367431640625e-08),\n",
       " (75520, '1999-08', 0.003125593066215515),\n",
       " (75520, '2001-09', 3.4694469519536144e-19),\n",
       " (75520, '2003-07', 2.5861662813976734e-11),\n",
       " (75520, '2004-08', 1.587904989719391e-08),\n",
       " (75520, '2004-11', 3.706445415378645e-13),\n",
       " (75520, '2008-04', 0.1),\n",
       " (75520, '2008-08', 1.4901161193847657e-09),\n",
       " (75520, '2008-12', 1.5336912488972032e-52)]"
      ]
     },
     "execution_count": 272,
     "metadata": {},
     "output_type": "execute_result"
    }
   ],
   "source": [
    "preci_2.take(10)"
   ]
  }
 ],
 "metadata": {
  "kernelspec": {
   "display_name": "Python 3",
   "language": "python",
   "name": "python3"
  },
  "language_info": {
   "codemirror_mode": {
    "name": "ipython",
    "version": 3
   },
   "file_extension": ".py",
   "mimetype": "text/x-python",
   "name": "python",
   "nbconvert_exporter": "python",
   "pygments_lexer": "ipython3",
   "version": "3.7.7"
  }
 },
 "nbformat": 4,
 "nbformat_minor": 2
}
